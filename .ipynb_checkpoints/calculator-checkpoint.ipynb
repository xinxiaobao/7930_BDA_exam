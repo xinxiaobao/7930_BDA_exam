{
 "cells": [
  {
   "cell_type": "code",
   "execution_count": 1,
   "metadata": {},
   "outputs": [],
   "source": [
    "import numpy as np\n",
    "from math import log\n",
    "import math"
   ]
  },
  {
   "cell_type": "markdown",
   "metadata": {},
   "source": [
    "# Decision Tree"
   ]
  },
  {
   "cell_type": "code",
   "execution_count": 2,
   "metadata": {},
   "outputs": [],
   "source": [
    "def Entropy(p):\n",
    "    res = -p*log(p, 2) - (1-p)*log((1-p), 2)\n",
    "    return res"
   ]
  },
  {
   "cell_type": "code",
   "execution_count": 3,
   "metadata": {},
   "outputs": [
    {
     "data": {
      "text/plain": [
       "0.9182958340544896"
      ]
     },
     "execution_count": 3,
     "metadata": {},
     "output_type": "execute_result"
    }
   ],
   "source": [
    "Entropy(2/3)"
   ]
  },
  {
   "cell_type": "code",
   "execution_count": 4,
   "metadata": {},
   "outputs": [],
   "source": [
    "def sumEnt(a, b, m, n):\n",
    "    p1 = a/(a+b)\n",
    "    p2 = m/(m+n)\n",
    "    if a == 0 or b == 0:\n",
    "        info1 = 0\n",
    "    else:\n",
    "        info1 = Entropy(p1)\n",
    "    if m == 0 or n == 0:\n",
    "        info2 = 0\n",
    "    else:\n",
    "        info2 = Entropy(p2)\n",
    "    res = (a+b)/(a+b+m+n) *info1 + (m+n)/(a+b+m+n) *info2\n",
    "    return res, info1, info2"
   ]
  },
  {
   "cell_type": "code",
   "execution_count": 5,
   "metadata": {},
   "outputs": [
    {
     "data": {
      "text/plain": [
       "(0.6887218755408672, 0, 0.9182958340544896)"
      ]
     },
     "execution_count": 5,
     "metadata": {},
     "output_type": "execute_result"
    }
   ],
   "source": [
    "sumEnt(25, 0,  25, 50)"
   ]
  },
  {
   "cell_type": "code",
   "execution_count": 6,
   "metadata": {},
   "outputs": [],
   "source": [
    "def sumGINI(a, b, m, n):\n",
    "    p1 = a/(a+b)\n",
    "    p2 = m/(m+n)\n",
    "\n",
    "    info1 = 1 - p1 **2 - (1-p1) **2\n",
    "\n",
    "    info2 = 1 - p2 **2 - (1-p2) **2\n",
    "    res = (a+b)/(a+b+m+n) *info1 + (m+n)/(a+b+m+n) *info2\n",
    "    return res, info1, info2"
   ]
  },
  {
   "cell_type": "code",
   "execution_count": 7,
   "metadata": {},
   "outputs": [
    {
     "data": {
      "text/plain": [
       "(0.3, 0.0, 0.48)"
      ]
     },
     "execution_count": 7,
     "metadata": {},
     "output_type": "execute_result"
    }
   ],
   "source": [
    "sumGINI(0, 3,  2, 3)"
   ]
  },
  {
   "cell_type": "code",
   "execution_count": 8,
   "metadata": {},
   "outputs": [],
   "source": [
    "def C45(a, b, m, n):\n",
    "    p1 = a/(a+b)\n",
    "    p2 = m/(m+n)\n",
    "    if a == 0 or b == 0:\n",
    "        info1 = 0\n",
    "    else:\n",
    "        info1 = Entropy(p1)\n",
    "    if m == 0 or n == 0:\n",
    "        info2 = 0\n",
    "    else:\n",
    "        info2 = Entropy(p2)\n",
    "      \n",
    "    if (a+b) == 0 or (m+n) == 0:\n",
    "        return 'splitInfo is 0'\n",
    "    else:\n",
    "        splitInfo = Entropy((a+b)/(a+b+m+n))\n",
    "    \n",
    "    res = (a+b)/(a+b+m+n) *info1 + (m+n)/(a+b+m+n) *info2\n",
    "    return res, info1, info2"
   ]
  },
  {
   "cell_type": "code",
   "execution_count": 9,
   "metadata": {},
   "outputs": [
    {
     "data": {
      "text/plain": [
       "(0.6887218755408672, 0, 0.9182958340544896)"
      ]
     },
     "execution_count": 9,
     "metadata": {},
     "output_type": "execute_result"
    }
   ],
   "source": [
    "C45(2, 0, 2, 4)"
   ]
  },
  {
   "cell_type": "code",
   "execution_count": 10,
   "metadata": {},
   "outputs": [
    {
     "data": {
      "text/plain": [
       "(0.3333333333333333, 0.0, 0.5)"
      ]
     },
     "execution_count": 10,
     "metadata": {},
     "output_type": "execute_result"
    }
   ],
   "source": [
    "sumGINI(25, 0,  25, 25)"
   ]
  },
  {
   "cell_type": "markdown",
   "metadata": {},
   "source": [
    "#  Mahalanobis Distance"
   ]
  },
  {
   "cell_type": "code",
   "execution_count": 11,
   "metadata": {},
   "outputs": [],
   "source": [
    "\n",
    "\n",
    "a = [0.5, 0.5]\n",
    "b = [0, 1]\n",
    "e = [[0.3, 0.2], [0.2, 0.3]]\n"
   ]
  },
  {
   "cell_type": "code",
   "execution_count": 12,
   "metadata": {},
   "outputs": [],
   "source": [
    "y = np.array(a) - np.array(b)\n",
    "e = np.array(e)"
   ]
  },
  {
   "cell_type": "code",
   "execution_count": 13,
   "metadata": {},
   "outputs": [
    {
     "data": {
      "text/plain": [
       "5.000000000000002"
      ]
     },
     "execution_count": 13,
     "metadata": {},
     "output_type": "execute_result"
    }
   ],
   "source": [
    "y.T @ np.linalg.inv(e) @ y"
   ]
  },
  {
   "cell_type": "markdown",
   "metadata": {},
   "source": [
    "# SVD"
   ]
  },
  {
   "cell_type": "code",
   "execution_count": 14,
   "metadata": {},
   "outputs": [],
   "source": [
    "A = [[1, 2, 3, 4], [5, 6, 7, 8]]"
   ]
  },
  {
   "cell_type": "code",
   "execution_count": 15,
   "metadata": {},
   "outputs": [],
   "source": [
    "A = np.array(A)\n",
    "u, s ,vt = np.linalg.svd(A)"
   ]
  },
  {
   "cell_type": "code",
   "execution_count": 16,
   "metadata": {},
   "outputs": [
    {
     "name": "stdout",
     "output_type": "stream",
     "text": [
      "[[-0.37616823 -0.92655138]\n",
      " [-0.92655138  0.37616823]]\n"
     ]
    }
   ],
   "source": [
    "print(u)"
   ]
  },
  {
   "cell_type": "code",
   "execution_count": 17,
   "metadata": {},
   "outputs": [
    {
     "name": "stdout",
     "output_type": "stream",
     "text": [
      "[14.22740741  1.25732984]\n"
     ]
    }
   ],
   "source": [
    "print(s)"
   ]
  },
  {
   "cell_type": "code",
   "execution_count": 18,
   "metadata": {},
   "outputs": [
    {
     "name": "stdout",
     "output_type": "stream",
     "text": [
      "[[-0.35206169 -0.44362578 -0.53518987 -0.62675396]\n",
      " [ 0.75898127  0.3212416  -0.11649807 -0.55423774]\n",
      " [-0.40008743  0.25463292  0.69099646 -0.54554195]\n",
      " [-0.37407225  0.79697056 -0.47172438  0.04882607]]\n"
     ]
    }
   ],
   "source": [
    "print(vt)"
   ]
  },
  {
   "cell_type": "markdown",
   "metadata": {},
   "source": [
    "# Similarity on RS "
   ]
  },
  {
   "cell_type": "code",
   "execution_count": 19,
   "metadata": {},
   "outputs": [],
   "source": [
    "A = [1, 0, 3, 0, 0, 5, 0, 0, 5, 0, 4, 0]\n",
    "B = [2, 4, 0, 1, 2, 0, 3, 0, 4, 3, 5, 0]\n",
    "\n",
    "\n",
    "# A = [4, 0, 0, 5, 1, 0, 0]\n",
    "# B = [5, 5, 4, 0, 0 ,0, 0]\n",
    "# C = [0, 0, 0, 2, 4, 5, 0]\n",
    "# D = [0, 0, 3, 0, 0, 0, 3]"
   ]
  },
  {
   "cell_type": "code",
   "execution_count": 20,
   "metadata": {},
   "outputs": [],
   "source": [
    "def cos_similarity(A, B):\n",
    "    A = np.array(A)\n",
    "    B = np.array(B)\n",
    "#     print(np.linalg.norm(A),np.linalg.norm(B))\n",
    "    return A@B/(np.linalg.norm(A)*np.linalg.norm(B))\n",
    "    "
   ]
  },
  {
   "cell_type": "code",
   "execution_count": 21,
   "metadata": {},
   "outputs": [],
   "source": [
    "def cos_similarity_norm(A, B):\n",
    "    n = len(A)\n",
    "    A_sum = sum(A)\n",
    "    B_sum = sum(B)\n",
    "    res = 0\n",
    "    x = 0\n",
    "    y = 0\n",
    "    A_m = 0\n",
    "    B_n = 0\n",
    "    for i in range(n):\n",
    "        if A[i]:\n",
    "            A_m += 1\n",
    "        if B[i]:\n",
    "            B_n += 1\n",
    "    for i in range(n):       \n",
    "        if A[i] and B[i]:\n",
    "            res += (A[i]-A_sum/A_m)*(B[i]-B_sum/B_n)\n",
    "        if A[i]:\n",
    "            x += (A[i]-A_sum/A_m)**2\n",
    "        if B[i]:\n",
    "            y += (B[i]-B_sum/B_n)**2\n",
    "            \n",
    "#     print(res, A_m, B_n , x, y)\n",
    "    return res/(math.sqrt(x)*math.sqrt(y))\n",
    "    "
   ]
  },
  {
   "cell_type": "code",
   "execution_count": 22,
   "metadata": {},
   "outputs": [
    {
     "data": {
      "text/plain": [
       "0.5256574830378468"
      ]
     },
     "execution_count": 22,
     "metadata": {},
     "output_type": "execute_result"
    }
   ],
   "source": [
    "cos_similarity(A, B)"
   ]
  },
  {
   "cell_type": "code",
   "execution_count": 23,
   "metadata": {},
   "outputs": [
    {
     "data": {
      "text/plain": [
       "0.41403933560541256"
      ]
     },
     "execution_count": 23,
     "metadata": {},
     "output_type": "execute_result"
    }
   ],
   "source": [
    "cos_similarity_norm(A, B)"
   ]
  },
  {
   "cell_type": "code",
   "execution_count": 24,
   "metadata": {},
   "outputs": [
    {
     "data": {
      "text/plain": [
       "0.41403933560541256"
      ]
     },
     "execution_count": 24,
     "metadata": {},
     "output_type": "execute_result"
    }
   ],
   "source": [
    "cos_similarity_norm(A, B)"
   ]
  },
  {
   "cell_type": "code",
   "execution_count": null,
   "metadata": {},
   "outputs": [],
   "source": []
  }
 ],
 "metadata": {
  "kernelspec": {
   "display_name": "Python 3",
   "language": "python",
   "name": "python3"
  },
  "language_info": {
   "codemirror_mode": {
    "name": "ipython",
    "version": 3
   },
   "file_extension": ".py",
   "mimetype": "text/x-python",
   "name": "python",
   "nbconvert_exporter": "python",
   "pygments_lexer": "ipython3",
   "version": "3.7.3"
  }
 },
 "nbformat": 4,
 "nbformat_minor": 2
}
