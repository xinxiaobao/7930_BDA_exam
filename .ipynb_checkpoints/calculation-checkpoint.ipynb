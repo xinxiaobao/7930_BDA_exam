{
 "cells": [
  {
   "cell_type": "code",
   "execution_count": 4,
   "metadata": {},
   "outputs": [],
   "source": [
    "import numpy as np\n",
    "from math import log"
   ]
  },
  {
   "cell_type": "code",
   "execution_count": 5,
   "metadata": {},
   "outputs": [],
   "source": [
    "def Entropy(p):\n",
    "    res = -p*log(p, 2) - (1-p)*log((1-p), 2)\n",
    "    return res"
   ]
  },
  {
   "cell_type": "code",
   "execution_count": 6,
   "metadata": {},
   "outputs": [
    {
     "data": {
      "text/plain": [
       "0.9182958340544896"
      ]
     },
     "execution_count": 6,
     "metadata": {},
     "output_type": "execute_result"
    }
   ],
   "source": [
    "Entropy(2/3)"
   ]
  },
  {
   "cell_type": "code",
   "execution_count": 15,
   "metadata": {},
   "outputs": [],
   "source": [
    "def sumEnt(a, b, m, n):\n",
    "    p1 = a/(a+b)\n",
    "    p2 = m/(m+n)\n",
    "    if a == 0 or b == 0:\n",
    "        info1 = 0\n",
    "    else:\n",
    "        info1 = Entropy(p1)\n",
    "    if m == 0 or n == 0:\n",
    "        info2 = 0\n",
    "    else:\n",
    "        info2 = Entropy(p2)\n",
    "    res = (a+b)/(a+b+m+n) *info1 + (m+n)/(a+b+m+n) *info2\n",
    "    return res, info1, info2"
   ]
  },
  {
   "cell_type": "code",
   "execution_count": 16,
   "metadata": {},
   "outputs": [
    {
     "data": {
      "text/plain": [
       "(0.6887218755408672, 0, 0.9182958340544896)"
      ]
     },
     "execution_count": 16,
     "metadata": {},
     "output_type": "execute_result"
    }
   ],
   "source": [
    "sumEnt(25, 0,  25, 50)"
   ]
  },
  {
   "cell_type": "code",
   "execution_count": 19,
   "metadata": {},
   "outputs": [],
   "source": [
    "def sumGINI(a, b, m, n):\n",
    "    p1 = a/(a+b)\n",
    "    p2 = m/(m+n)\n",
    "\n",
    "    info1 = 1 - p1 **2 - (1-p1) **2\n",
    "\n",
    "    info2 = 1 - p2 **2 - (1-p2) **2\n",
    "    res = (a+b)/(a+b+m+n) *info1 + (m+n)/(a+b+m+n) *info2\n",
    "    return res, info1, info2"
   ]
  },
  {
   "cell_type": "code",
   "execution_count": 29,
   "metadata": {},
   "outputs": [
    {
     "data": {
      "text/plain": [
       "(0.3, 0.0, 0.48)"
      ]
     },
     "execution_count": 29,
     "metadata": {},
     "output_type": "execute_result"
    }
   ],
   "source": [
    "sumGINI(0, 3,  2, 3)"
   ]
  },
  {
   "cell_type": "code",
   "execution_count": 21,
   "metadata": {},
   "outputs": [
    {
     "data": {
      "text/plain": [
       "(0.48, 0.48, 0.48)"
      ]
     },
     "execution_count": 21,
     "metadata": {},
     "output_type": "execute_result"
    }
   ],
   "source": [
    "sumGINI(30, 20,  20, 30)"
   ]
  },
  {
   "cell_type": "code",
   "execution_count": 22,
   "metadata": {},
   "outputs": [
    {
     "data": {
      "text/plain": [
       "(0.5, 0.5, 0.5)"
      ]
     },
     "execution_count": 22,
     "metadata": {},
     "output_type": "execute_result"
    }
   ],
   "source": [
    "sumGINI(25, 25,  25, 25)"
   ]
  },
  {
   "cell_type": "code",
   "execution_count": 23,
   "metadata": {},
   "outputs": [
    {
     "data": {
      "text/plain": [
       "(0.2962962962962963, 0.49382716049382713, 0.0)"
      ]
     },
     "execution_count": 23,
     "metadata": {},
     "output_type": "execute_result"
    }
   ],
   "source": [
    "sumGINI(25, 20,  0, 30)"
   ]
  },
  {
   "cell_type": "code",
   "execution_count": 24,
   "metadata": {},
   "outputs": [
    {
     "data": {
      "text/plain": [
       "(0.3333333333333333, 0.0, 0.5)"
      ]
     },
     "execution_count": 24,
     "metadata": {},
     "output_type": "execute_result"
    }
   ],
   "source": [
    "sumGINI(25, 0,  25, 25)"
   ]
  },
  {
   "cell_type": "code",
   "execution_count": 25,
   "metadata": {},
   "outputs": [],
   "source": [
    "def C45(a, b, m, n):\n",
    "    p1 = a/(a+b)\n",
    "    p2 = m/(m+n)\n",
    "    if a == 0 or b == 0:\n",
    "        info1 = 0\n",
    "    else:\n",
    "        info1 = Entropy(p1)\n",
    "    if m == 0 or n == 0:\n",
    "        info2 = 0\n",
    "    else:\n",
    "        info2 = Entropy(p2)\n",
    "      \n",
    "    if (a+b) == 0 or (m+n) == 0:\n",
    "        return 'splitInfo is 0'\n",
    "    else:\n",
    "        splitInfo = Entropy((a+b)/(a+b+m+n))\n",
    "    \n",
    "    res = (a+b)/(a+b+m+n) *info1 + (m+n)/(a+b+m+n) *info2\n",
    "    return res, info1, info2"
   ]
  },
  {
   "cell_type": "code",
   "execution_count": 26,
   "metadata": {},
   "outputs": [
    {
     "data": {
      "text/plain": [
       "(0.6887218755408672, 0, 0.9182958340544896)"
      ]
     },
     "execution_count": 26,
     "metadata": {},
     "output_type": "execute_result"
    }
   ],
   "source": [
    "C45(2, 0, 2, 4)"
   ]
  },
  {
   "cell_type": "code",
   "execution_count": null,
   "metadata": {},
   "outputs": [],
   "source": []
  }
 ],
 "metadata": {
  "kernelspec": {
   "display_name": "Python 3",
   "language": "python",
   "name": "python3"
  },
  "language_info": {
   "codemirror_mode": {
    "name": "ipython",
    "version": 3
   },
   "file_extension": ".py",
   "mimetype": "text/x-python",
   "name": "python",
   "nbconvert_exporter": "python",
   "pygments_lexer": "ipython3",
   "version": "3.7.3"
  }
 },
 "nbformat": 4,
 "nbformat_minor": 2
}
